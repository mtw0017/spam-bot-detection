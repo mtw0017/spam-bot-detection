{
 "cells": [
  {
   "cell_type": "code",
   "execution_count": 1,
   "id": "8b606011",
   "metadata": {},
   "outputs": [],
   "source": [
    "import pandas as pd\n",
    "import joblib"
   ]
  },
  {
   "cell_type": "code",
   "execution_count": 2,
   "id": "c71403af",
   "metadata": {},
   "outputs": [],
   "source": [
    "# Load saved model and scaler\n",
    "model = joblib.load(\"logistic_spam_detector.pkl\")\n",
    "scaler = joblib.load(\"scaler.pkl\")  # only if you used one"
   ]
  },
  {
   "cell_type": "code",
   "execution_count": 3,
   "id": "bb1de5f9",
   "metadata": {},
   "outputs": [],
   "source": [
    "# Load new data for prediction\n",
    "# Example: pd.read_csv(\"new_accounts.csv\")\n",
    "data = pd.DataFrame([{\n",
    "    'PROFILE_PIC': 1,\n",
    "    'NUMS_TO_LENGTH': 0.3,\n",
    "    'FULLNAME': 2,\n",
    "    'NUMS_TO_FULLNAME': 0.0,\n",
    "    'NAME_FOR_USERNAME': 1,\n",
    "    'DESC_LENGTH': 50,\n",
    "    'EXT_URL': 0,\n",
    "    'PRIV': 1,\n",
    "    'NUM_POSTS': 10,\n",
    "    'NUM_FOLLOWERS': 300,\n",
    "    'NUM_FOLLOWING': 250\n",
    "}])"
   ]
  },
  {
   "cell_type": "code",
   "execution_count": 4,
   "id": "cbfbcc6c",
   "metadata": {},
   "outputs": [],
   "source": [
    "# Scale input data\n",
    "X_scaled = scaler.transform(data)\n"
   ]
  },
  {
   "cell_type": "code",
   "execution_count": 6,
   "id": "57ddf76b",
   "metadata": {},
   "outputs": [
    {
     "name": "stdout",
     "output_type": "stream",
     "text": [
      "Predicted FAKE label (1 = fake, 0 = real): 1\n"
     ]
    }
   ],
   "source": [
    "# Predict\n",
    "prediction = model.predict(X_scaled)\n",
    "print(\"Predicted FAKE label (1 = fake, 0 = real):\", prediction[0])"
   ]
  },
  {
   "cell_type": "code",
   "execution_count": null,
   "id": "c5ad7435",
   "metadata": {},
   "outputs": [],
   "source": []
  }
 ],
 "metadata": {
  "kernelspec": {
   "display_name": "Python 3 (ipykernel)",
   "language": "python",
   "name": "python3"
  },
  "language_info": {
   "codemirror_mode": {
    "name": "ipython",
    "version": 3
   },
   "file_extension": ".py",
   "mimetype": "text/x-python",
   "name": "python",
   "nbconvert_exporter": "python",
   "pygments_lexer": "ipython3",
   "version": "3.9.13"
  }
 },
 "nbformat": 4,
 "nbformat_minor": 5
}
